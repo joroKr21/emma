{
 "cells": [
  {
   "cell_type": "markdown",
   "metadata": {},
   "source": [
    "# Transversers\n",
    "\n",
    "This notebook describes part of [Emma](https://github.com/emmalanguage/emma)'s compiler API. Transversers (short for transformers + traversers) are focused on manipulating Scala trees and Emma IR trees. Transformers change the tree while traversers only collect information about it. For all intents and purposes, both are equivalent (we can see traversal as the identity transformation). The only practical difference is efficiency.\n",
    "\n",
    "The gist if this API is avoiding explicit recursion and mutable state by defining rules that operate on one node (and optionally some attributes) at a time. Each rule is usually one `case` in a partial function (also referred to as \"Matcher\") that returns substitute nodes or attributes and is passed to second-order combinators that specify the overall recursion strategy."
   ]
  },
  {
   "cell_type": "markdown",
   "metadata": {},
   "source": [
    "## Setup\n",
    "This section explains step by step how to setup the notebook. We assume that you have followed the instructions from [README](./README.md) and are running this notebook from the `emma-jupyter` directory.\n",
    "- We need to load the `emma-language` artifact to gain access to Emma's APIs:"
   ]
  },
  {
   "cell_type": "code",
   "execution_count": null,
   "metadata": {
    "collapsed": false
   },
   "outputs": [],
   "source": [
    "import java.nio.file.Paths\n",
    "\n",
    "// Check the current directory (should be emma-jupyter):\n",
    "println(sys.props(\"user.dir\"))\n",
    "\n",
    "// Register the local Maven repository (substitute HOME if necessary):\n",
    "val HOME = sys.props(\"user.home\")\n",
    "classpath.addRepository(s\"file://$HOME/.m2/repository/\")\n",
    "\n",
    "// Add emma-language to the classpath:\n",
    "classpath.add(\"eu.stratosphere\" % \"emma-language\" % \"1.0-SNAPSHOT\")\n",
    "\n",
    "// Add the test-classes from emma-language to the classpath:\n",
    "val testClasses = Paths.get(\"../emma-language/target/test-classes\").toAbsolutePath().normalize().toString()\n",
    "classpath.addPath(testClasses)"
   ]
  },
  {
   "cell_type": "markdown",
   "metadata": {
    "collapsed": true
   },
   "source": [
    "- Next, we create a runtime compiler to test out features of the API:"
   ]
  },
  {
   "cell_type": "code",
   "execution_count": 3,
   "metadata": {
    "collapsed": false
   },
   "outputs": [
    {
     "data": {
      "text/plain": [
       "\u001b[32mimport \u001b[36meu.stratosphere.emma.compiler._\u001b[0m\n",
       "\u001b[32mimport \u001b[36mcats.std.all._\u001b[0m\n",
       "\u001b[36mcompiler\u001b[0m: \u001b[32mRuntimeCompiler\u001b[0m = eu.stratosphere.emma.compiler.RuntimeCompiler@63295fd4\n",
       "\u001b[36mapi\u001b[0m: \u001b[32m$user\u001b[0m.\u001b[32mcompiler\u001b[0m.\u001b[32mapi\u001b[0m.type = eu.stratosphere.emma.ast.AST$api$@577b8509\n",
       "\u001b[36muni\u001b[0m: \u001b[32mreflect\u001b[0m.\u001b[32mruntime\u001b[0m.\u001b[32mJavaUniverse\u001b[0m = scala.reflect.runtime.JavaUniverse@676036c0\n",
       "\u001b[36msrc\u001b[0m: \u001b[32m$user\u001b[0m.\u001b[32mcompiler\u001b[0m.\u001b[32mSource\u001b[0m.\u001b[32mLang\u001b[0m.type = eu.stratosphere.emma.compiler.lang.source.Source$Source$Lang$@590325f2\n",
       "\u001b[36mcore\u001b[0m: \u001b[32m$user\u001b[0m.\u001b[32mcompiler\u001b[0m.\u001b[32mCore\u001b[0m.\u001b[32mLang\u001b[0m.type = eu.stratosphere.emma.compiler.lang.core.Core$Core$Lang$@2cdd3fc4"
      ]
     },
     "metadata": {},
     "output_type": "display_data"
    }
   ],
   "source": [
    "import eu.stratosphere.emma.compiler._\n",
    "import cats.std.all._\n",
    "\n",
    "val compiler = new RuntimeCompiler()\n",
    "\n",
    "// Import APIs that we want to use.\n",
    "val api = compiler.api\n",
    "val uni = compiler.universe\n",
    "val src = compiler.Source.Lang\n",
    "val core = compiler.Core.Lang"
   ]
  },
  {
   "cell_type": "markdown",
   "metadata": {},
   "source": [
    "For more details on `Core.Lang` see the [Core language notebook](./CoreLanguage.ipynb) and for details on `Source.Lang` see the [Source language notebook](./SourceLanguage.ipynb)."
   ]
  },
  {
   "cell_type": "markdown",
   "metadata": {},
   "source": [
    "## Dissecting a Transformation / Traversal\n",
    "\n",
    "Transformations and traversals consist of four major components:\n",
    "\n",
    "1. Strategy - the recursion scheme;\n",
    "2. Attributes - additional node information for the rules;\n",
    "3. Rules - the matcher function;\n",
    "4. Result - any post-processing if necessary.\n",
    "\n",
    "Next, we're going to look at each one in detail."
   ]
  },
  {
   "cell_type": "markdown",
   "metadata": {},
   "source": [
    "### Strategies\n",
    "\n",
    "The transform / traverse API features six fundamental recursion strategies characterized in two orthogonal dimensions:\n",
    "\n",
    "1. Vertical direction:\n",
    "    - **Top-down**: traversal / transformation descend in a depth-first fashion from the root to the leaves;\n",
    "    - **Bottom-up**: traversal / transformation ascend recursively from the leaves to the root.\n",
    "2. After-match behaviour (what happens after a match at the current node):\n",
    "    - **Continue**: traversal / transformation continue to the next node in order;\n",
    "    - **Break**: traversal / transformation stop descending or ascending (NOTE: to stop ascending all children have to match);\n",
    "    - **Exhaust**: traversal / transformation iterate at the current node until a fix-point is found, then continue.\n",
    "\n",
    "The combination of the above determines the direction and extent to which rules are applied. Theoretically, we can differentiate a third dimension - horizontal direction (left-to-right vs. right-to-left), but in practice we adopt a left-to-right policy.\n",
    "\n",
    "The table below illustrates the differences between strategies based on a simplified AST example. Green nodes are potential rule matches, whereas red nodes are ignored. The traversal / transformation path is shown as blue arrows."
   ]
  },
  {
   "cell_type": "markdown",
   "metadata": {},
   "source": [
    "| Top-down Strategies | Bottom-up Strategies |\n",
    "|:-------------------:|:--------------------:|\n",
    "| *Top-down Continue* ![](img/top-down-continue.png) `api.TopDown` | *Bottom-up Continue* ![](img/bottom-up-continue.png) `api.BottomUp` |\n",
    "| *Top-down Break* ![](img/top-down-break.png) `api.TopDown.break` | *Bottom-up Break* ![](img/bottom-up-break.png) `api.BottomUp.break` |\n",
    "| *Top-down Exhaust* ![](img/top-down-exhaust.png) `api.TopDown.exhaust` | *Bottom-up Exhaust* ![](img/bottom-up-exhaust.png) `api.BottomUp.exhaust` |"
   ]
  },
  {
   "cell_type": "markdown",
   "metadata": {
    "collapsed": true
   },
   "source": [
    "### 2. Attributes\n",
    "\n",
    "While traversing or transforming ASTs, it's often necessary to annotate nodes with attributes that provide additional information for implementing rules. The attributes themselves are also generated with rules. The type of attributes is user-defined, with two important restrictions:\n",
    "\n",
    "1. Attributes are [Monoids](http://typelevel.org/cats/tut/monoid.html) - the identity element is used for nodes that don't match and the binary operation combines previously generated attributes.\n",
    "2. Attributes are [HLists](https://github.com/milessabin/shapeless/wiki/Feature-overview:-shapeless-2.0.0#heterogenous-lists) (heterogenous lists). You can think of `HList`s as generalized tuples. NOTE: new attributes are prepended which means they appear in reverse order when matching them in rules.\n",
    "\n",
    "There are three flavors of attributes supported:"
   ]
  },
  {
   "cell_type": "markdown",
   "metadata": {},
   "source": [
    "**1. Accumulated attributes** - generated along the traversal / transformation path and therefore their semantics depends on the strategy (see previous section for details). You can think of these attributes as a single accumulator that is updated at every visited node according to the associated Monoid. Example below:"
   ]
  },
  {
   "cell_type": "code",
   "execution_count": 5,
   "metadata": {
    "collapsed": false
   },
   "outputs": [
    {
     "data": {
      "text/plain": [
       "\u001b[36mres4\u001b[0m: \u001b[32mcompiler\u001b[0m.\u001b[32mStrategy\u001b[0m[\u001b[32mshapeless\u001b[0m.\u001b[32m::\u001b[0m[\u001b[32mVector\u001b[0m[\u001b[32mcompiler\u001b[0m.\u001b[32mu\u001b[0m.\u001b[32mTermSymbol\u001b[0m], \u001b[32mshapeless\u001b[0m.\u001b[32mHNil\u001b[0m], \u001b[32mshapeless\u001b[0m.\u001b[32mHNil\u001b[0m, \u001b[32mshapeless\u001b[0m.\u001b[32mHNil\u001b[0m] = Strategy(AttrGrammar(<function1>,<function1>,<function1>,false),eu.stratosphere.emma.ast.Transversers$TransFactory$topDown$@15a06cec)"
      ]
     },
     "metadata": {},
     "output_type": "display_data"
    }
   ],
   "source": [
    "// Keep track of all method parameters seen so far in a Vector.\n",
    "// The default monoid for Vectors and other sequences is concatenation.\n",
    "api.TopDown.accumulate { case core.DefDef(_, _, _, paramss, _) =>\n",
    "  (for (core.ParDef(lhs, _, _) <- paramss.flatten) yield lhs).toVector\n",
    "}"
   ]
  },
  {
   "cell_type": "markdown",
   "metadata": {},
   "source": [
    "An accumulate attribute can use other accumulated, inherited or synthesized"
   ]
  },
  {
   "cell_type": "markdown",
   "metadata": {},
   "source": [
    "**2. Inherited attributes** - generated along the path from the root to the current node. You can think of these attributes as a stack that is pushed when entering a subtree and popped when leaving it. For illustration see the next image a few cells down. Example below:"
   ]
  },
  {
   "cell_type": "code",
   "execution_count": null,
   "metadata": {
    "collapsed": true
   },
   "outputs": [],
   "source": []
  },
  {
   "cell_type": "markdown",
   "metadata": {},
   "source": [
    "| Synthesized Attributes | Inherited Attributes |\n",
    "|:----------------------:|:--------------------:|\n",
    "|![](img/attr-syn.png)   |![](img/attr-inh.png) |"
   ]
  },
  {
   "cell_type": "code",
   "execution_count": null,
   "metadata": {
    "collapsed": true
   },
   "outputs": [],
   "source": []
  }
 ],
 "metadata": {
  "kernelspec": {
   "display_name": "Scala 2.11",
   "language": "scala211",
   "name": "scala211"
  },
  "language_info": {
   "codemirror_mode": "text/x-scala",
   "file_extension": ".scala",
   "mimetype": "text/x-scala",
   "name": "scala211",
   "pygments_lexer": "scala",
   "version": "2.11.8"
  }
 },
 "nbformat": 4,
 "nbformat_minor": 0
}
