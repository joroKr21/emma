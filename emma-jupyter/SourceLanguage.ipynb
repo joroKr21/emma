{
 "cells": [
  {
   "cell_type": "markdown",
   "metadata": {},
   "source": [
    "# Emma Source Language\n",
    "\n",
    "Emma is a *domain-specific language (DSL)* for parallel data analysis embedded in Scala. As such, Emma accepts a subset of Scala as valid source expressions. The language induced by this set is called the *Emma Source* and is introduced by example below.\n",
    "\n",
    "This notebook is intented for developers who want to work in the Emma compiler.\n",
    "\n",
    "For an introduction to the Emma DSL by example, please check the `EmmaByExample` notebook."
   ]
  },
  {
   "cell_type": "markdown",
   "metadata": {},
   "source": [
    "## Notebook Setup\n",
    "\n",
    "The snippet assumes that you have installed the current version of the Emma in your local Maven repository before opeining the notebook. If this is not the case, you should do this from the project root with the following Maven command.\n",
    "\n",
    "```\n",
    "mvn clean install -DskipTests\n",
    "```\n",
    "\n",
    "We can then load the `emma-language` artifact as follows."
   ]
  },
  {
   "cell_type": "markdown",
   "metadata": {},
   "source": [
    "## Pre-Processing\n",
    "Certain pre-processing and simplification steps are performed on the original AST level to make the trees easier to process semantically rather than syntactically. This happens at the very beginning of the compilation pipeline."
   ]
  },
  {
   "cell_type": "markdown",
   "metadata": {},
   "source": [
    "### Eliminating Pattern Matching\n",
    "For now, Emma supports only _irrefutable_ pattern matching, i.e. pattern matching that cannot fail. It is useful as a destructuring mechanism. For details, take a look at Scala specification on [Irrefutable Patterns](http://www.scala-lang.org/files/archive/spec/2.11/08-pattern-matching.html#irrefutable-patterns). E.g:"
   ]
  },
  {
   "cell_type": "code",
   "execution_count": 1,
   "metadata": {
    "collapsed": false
   },
   "outputs": [
    {
     "data": {
      "text/plain": [
       "\u001b[36mx\u001b[0m: \u001b[32mInt\u001b[0m = \u001b[32m1\u001b[0m\n",
       "\u001b[36my\u001b[0m: \u001b[32mInt\u001b[0m = \u001b[32m2\u001b[0m"
      ]
     },
     "metadata": {},
     "output_type": "display_data"
    }
   ],
   "source": [
    "val (x, y) = (1, 2)"
   ]
  },
  {
   "cell_type": "markdown",
   "metadata": {},
   "source": [
    "is a valid use case. The same syntax can be used in `for` comprehensions:"
   ]
  },
  {
   "cell_type": "code",
   "execution_count": 9,
   "metadata": {
    "collapsed": false
   },
   "outputs": [
    {
     "data": {
      "text/plain": [
       "\u001b[36mpairs\u001b[0m: \u001b[32mcollection\u001b[0m.\u001b[32mimmutable\u001b[0m.\u001b[32mIndexedSeq\u001b[0m[(\u001b[32mInt\u001b[0m, \u001b[32mInt\u001b[0m)] = \u001b[33mVector\u001b[0m(\n",
       "  \u001b[33m\u001b[0m(\u001b[32m1\u001b[0m, \u001b[32m1\u001b[0m),\n",
       "  \u001b[33m\u001b[0m(\u001b[32m2\u001b[0m, \u001b[32m4\u001b[0m),\n",
       "  \u001b[33m\u001b[0m(\u001b[32m3\u001b[0m, \u001b[32m9\u001b[0m),\n",
       "  \u001b[33m\u001b[0m(\u001b[32m4\u001b[0m, \u001b[32m16\u001b[0m),\n",
       "  \u001b[33m\u001b[0m(\u001b[32m5\u001b[0m, \u001b[32m25\u001b[0m),\n",
       "  \u001b[33m\u001b[0m(\u001b[32m6\u001b[0m, \u001b[32m36\u001b[0m),\n",
       "  \u001b[33m\u001b[0m(\u001b[32m7\u001b[0m, \u001b[32m49\u001b[0m),\n",
       "  \u001b[33m\u001b[0m(\u001b[32m8\u001b[0m, \u001b[32m64\u001b[0m),\n",
       "  \u001b[33m\u001b[0m(\u001b[32m9\u001b[0m, \u001b[32m81\u001b[0m),\n",
       "  \u001b[33m\u001b[0m(\u001b[32m10\u001b[0m, \u001b[32m100\u001b[0m)\n",
       ")\n",
       "\u001b[36mres8_1\u001b[0m: \u001b[32mcollection\u001b[0m.\u001b[32mimmutable\u001b[0m.\u001b[32mIndexedSeq\u001b[0m[\u001b[32mInt\u001b[0m] = \u001b[33mVector\u001b[0m(\u001b[32m1\u001b[0m, \u001b[32m3\u001b[0m, \u001b[32m6\u001b[0m, \u001b[32m10\u001b[0m, \u001b[32m15\u001b[0m, \u001b[32m21\u001b[0m, \u001b[32m28\u001b[0m, \u001b[32m36\u001b[0m, \u001b[32m45\u001b[0m, \u001b[32m55\u001b[0m)"
      ]
     },
     "metadata": {},
     "output_type": "display_data"
    }
   ],
   "source": [
    "val pairs = 1 to 10 map (x => (x, x * x))\n",
    "for ((x, y) <- pairs) yield (x + y) / 2"
   ]
  },
  {
   "cell_type": "markdown",
   "metadata": {},
   "source": [
    "As part of pre-processing it is transformed to regular value definitions. E.g. the statement 2 cells above becomes:"
   ]
  },
  {
   "cell_type": "code",
   "execution_count": 3,
   "metadata": {
    "collapsed": false
   },
   "outputs": [
    {
     "data": {
      "text/plain": [
       "\u001b[36mpair\u001b[0m: (\u001b[32mInt\u001b[0m, \u001b[32mInt\u001b[0m) = \u001b[33m\u001b[0m(\u001b[32m1\u001b[0m, \u001b[32m2\u001b[0m)\n",
       "\u001b[36mx\u001b[0m: \u001b[32mInt\u001b[0m = \u001b[32m1\u001b[0m\n",
       "\u001b[36my\u001b[0m: \u001b[32mInt\u001b[0m = \u001b[32m2\u001b[0m"
      ]
     },
     "metadata": {},
     "output_type": "display_data"
    }
   ],
   "source": [
    "val pair = (1, 2)\n",
    "val x = pair._1\n",
    "val y = pair._2"
   ]
  },
  {
   "cell_type": "markdown",
   "metadata": {},
   "source": [
    "### Statement Normalization\n",
    "Most Scala constructs are considered values. Even `while` loops and assignments are expressions that return `Unit`. To make the distinction between terms and statements more clear on the IR level, these are wrapped in `Block`s that return `()` explicitly (when in term position). E.g:"
   ]
  },
  {
   "cell_type": "code",
   "execution_count": 20,
   "metadata": {
    "collapsed": false
   },
   "outputs": [
    {
     "data": {
      "text/plain": [
       "\u001b[36mx\u001b[0m: \u001b[32mInt\u001b[0m = \u001b[32m110\u001b[0m"
      ]
     },
     "metadata": {},
     "output_type": "display_data"
    }
   ],
   "source": [
    "var x = 0\n",
    "\n",
    "// Assignments\n",
    "for (i <- 1 to 10) x += i // =>\n",
    "for (i <- 1 to 10) { x += i; () }\n",
    "\n",
    "// Loops\n",
    "for (i <- 1 to 100 by 10) while (x < i) x *= 2 // =>\n",
    "for (i <- 1 to 100 by 10) { while (x < i) x *= 2; () }"
   ]
  },
  {
   "cell_type": "markdown",
   "metadata": {},
   "source": [
    "### Forgetting Static Qualifiers\n",
    "Certain named entities in Scala are static - top-level classes and objects, values, methods and objects nested in package objects or other static objects. Those are uniquely identified by their symbols. Therefore it's not necessary to qualify references to them (qualifiers are represented as chains `Select`s in the underlying AST, whereas unqualified references are `Ident`s). To simplify pattern matching, qualifiers of static entites are removed in a pre-processing step."
   ]
  },
  {
   "cell_type": "code",
   "execution_count": 21,
   "metadata": {
    "collapsed": false
   },
   "outputs": [
    {
     "name": "stdout",
     "output_type": "stream",
     "text": [
      "Hello, World!\n",
      "Hello, World!\n"
     ]
    },
    {
     "data": {
      "text/plain": [
       "\u001b[32mimport \u001b[36mscala.math._\u001b[0m\n",
       "\u001b[36mres20_1\u001b[0m: \u001b[32mcollection\u001b[0m.\u001b[32mSeq\u001b[0m.type = scala.collection.Seq$@6d664a1f\n",
       "\u001b[36mres20_2\u001b[0m: \u001b[32mcollection\u001b[0m.\u001b[32mSeq\u001b[0m.type = scala.collection.Seq$@6d664a1f\n",
       "\u001b[36mres20_5\u001b[0m: \u001b[32mDouble\u001b[0m = \u001b[32m3.141592653589793\u001b[0m\n",
       "\u001b[36mres20_6\u001b[0m: \u001b[32mDouble\u001b[0m = \u001b[32m3.141592653589793\u001b[0m"
      ]
     },
     "metadata": {},
     "output_type": "display_data"
    }
   ],
   "source": [
    "import scala.math._\n",
    "\n",
    "// Objects\n",
    "scala.collection.Seq // =>\n",
    "Seq\n",
    "\n",
    "// Methods\n",
    "scala.Predef.println(\"Hello, World!\") // =>\n",
    "println(\"Hello, World!\")\n",
    "\n",
    "// Values\n",
    "scala.math.Pi // =>\n",
    "Pi"
   ]
  },
  {
   "cell_type": "markdown",
   "metadata": {},
   "source": [
    "### Fixing Lambda Symbol Types\n",
    "Lambdas (anonymous functions) are owners in Scala and have a special symbol named `\"anonfun\"`. In some cases it doesn't have a type, which is inconsistent with other owners/symbols."
   ]
  },
  {
   "cell_type": "code",
   "execution_count": 5,
   "metadata": {
    "collapsed": false
   },
   "outputs": [
    {
     "data": {
      "text/plain": [
       "\u001b[36mres4\u001b[0m: \u001b[32mInt\u001b[0m => \u001b[32mInt\u001b[0m => \u001b[32mInt\u001b[0m = <function1>"
      ]
     },
     "metadata": {},
     "output_type": "display_data"
    }
   ],
   "source": [
    "// The symbol of the lambda below should have type Int => Int => Int\n",
    "(x: Int) => (y: Int) => x + y"
   ]
  },
  {
   "cell_type": "markdown",
   "metadata": {},
   "source": [
    "## Post-Processing\n",
    "Steps to bring the AST into a form acceptable for the Scala compiler."
   ]
  },
  {
   "cell_type": "markdown",
   "metadata": {},
   "source": [
    "### Qualifying Static References\n",
    "Static references are fully qualified upto the `_root_` package to ensure hygiene wrt. names in the AST."
   ]
  },
  {
   "cell_type": "code",
   "execution_count": 22,
   "metadata": {
    "collapsed": false
   },
   "outputs": [
    {
     "name": "stdout",
     "output_type": "stream",
     "text": [
      "Hello, World!\n",
      "Hello, World!\n"
     ]
    },
    {
     "data": {
      "text/plain": [
       "\u001b[32mimport \u001b[36mscala.math._\u001b[0m\n",
       "\u001b[36mres21_1\u001b[0m: \u001b[32mcollection\u001b[0m.\u001b[32mSeq\u001b[0m.type = scala.collection.Seq$@6d664a1f\n",
       "\u001b[36mres21_2\u001b[0m: \u001b[32mcollection\u001b[0m.\u001b[32mSeq\u001b[0m.type = scala.collection.Seq$@6d664a1f\n",
       "\u001b[36mres21_5\u001b[0m: \u001b[32mDouble\u001b[0m = \u001b[32m3.141592653589793\u001b[0m\n",
       "\u001b[36mres21_6\u001b[0m: \u001b[32mDouble\u001b[0m = \u001b[32m3.141592653589793\u001b[0m"
      ]
     },
     "metadata": {},
     "output_type": "display_data"
    }
   ],
   "source": [
    "import scala.math._\n",
    "\n",
    "// Objects\n",
    "Seq // =>\n",
    "_root_.scala.collection.Seq\n",
    "\n",
    "// Methods\n",
    "println(\"Hello, World!\") // =>\n",
    "_root_.scala.Predef.println(\"Hello, World!\")\n",
    "\n",
    "// Values\n",
    "Pi // =>\n",
    "_root_.scala.math.Pi"
   ]
  },
  {
   "cell_type": "markdown",
   "metadata": {},
   "source": [
    "### Fixing the Owner Chain\n",
    "In the Scala AST, every named entity has an owner - the nearest enclosing named entity. Note: lambdas are also owners, although they are anonymous. Splicing of trees in other trees is likely to break this relationship. It has to be fixed in a post-processing step."
   ]
  },
  {
   "cell_type": "code",
   "execution_count": 8,
   "metadata": {
    "collapsed": false
   },
   "outputs": [
    {
     "data": {
      "text/plain": [
       "defined \u001b[32mfunction \u001b[36mfizzBuzz1\u001b[0m\n",
       "defined \u001b[32mfunction \u001b[36mfizzBuzz2\u001b[0m"
      ]
     },
     "metadata": {},
     "output_type": "display_data"
    }
   ],
   "source": [
    "def fizzBuzz1 = {\n",
    "    var i = 0 // the owner of i is fizzBuzz\n",
    "    while (i < 100) {\n",
    "        i += 1\n",
    "        if (i % 3 == 0 && i % 5 == 0) println(\"fizzbuzz\")\n",
    "        else if (i % 3 == 0) println(\"fizz\")\n",
    "        else if (i % 5 == 0) println(\"buzz\")\n",
    "        else println(i)\n",
    "    }\n",
    "}\n",
    "\n",
    "def fizzBuzz2 = {\n",
    "    1 to 100 foreach { i => // the owner of i is anonfun\n",
    "        if (i % 3 == 0 && i % 5 == 0) println(\"fizzbuzz\")\n",
    "        else if (i % 3 == 0) println(\"fizz\")\n",
    "        else if (i % 5 == 0) println(\"buzz\")\n",
    "        else println(i)\n",
    "    }\n",
    "}"
   ]
  },
  {
   "cell_type": "markdown",
   "metadata": {},
   "source": [
    "# Virtual AST Hierarchy\n",
    "The underlying Scala AST reuses nodes aggressively and is more convenient for representing syntax rather than semantics. We take a subset of it and overlay virtual nodes that better represent semantics.\n",
    "- Virtual in the sense that it consists of constructors and extractors for the underlying Scala AST.\n",
    "- Minimal hierarchy - if a non-leaf node matches, exactly one of it's children will match.\n",
    "- Complete hierarchy - if a non-root node matches, it's parent will also match.\n",
    "- No overlap exists between sibling nodes."
   ]
  },
  {
   "cell_type": "markdown",
   "metadata": {},
   "source": [
    "#### A note about `Select`\n",
    "In the virtual AST Scala `Select` nodes have no direct correspondence. They are always resolved according to their semantic context:"
   ]
  },
  {
   "cell_type": "code",
   "execution_count": 23,
   "metadata": {
    "collapsed": false,
    "scrolled": true
   },
   "outputs": [
    {
     "data": {
      "text/plain": [
       "defined \u001b[32mclass \u001b[36mC\u001b[0m\n",
       "\u001b[36mx\u001b[0m: \u001b[32m$user\u001b[0m.\u001b[32mC\u001b[0m = cmd22$$user$C@650e514c\n",
       "\u001b[36mres22_2\u001b[0m: \u001b[32mInt\u001b[0m = \u001b[32m42\u001b[0m\n",
       "\u001b[36mres22_3\u001b[0m: \u001b[32mString\u001b[0m = \u001b[32m\"answer\"\u001b[0m\n",
       "\u001b[36mres22_4\u001b[0m: \u001b[32mInt\u001b[0m = \u001b[32m84\u001b[0m\n",
       "\u001b[36mres22_5\u001b[0m: \u001b[32m$user\u001b[0m.\u001b[32mx\u001b[0m.\u001b[32mO\u001b[0m.type = cmd22$$user$C$O$@3c6c26b6\n",
       "\u001b[36mres22_6\u001b[0m: \u001b[32mClass\u001b[0m[\u001b[32m$user\u001b[0m.\u001b[32mx\u001b[0m.\u001b[32mT\u001b[0m] = int"
      ]
     },
     "metadata": {},
     "output_type": "display_data"
    }
   ],
   "source": [
    "class C {\n",
    "    val y = 42\n",
    "    var z = \"answer\"\n",
    "    def yn(n: Int) = y * n\n",
    "    object O\n",
    "    type T = Int\n",
    "}\n",
    "\n",
    "val x = new C\n",
    "\n",
    "// Field access\n",
    "x.y\n",
    "x.z\n",
    "\n",
    "// Method calls\n",
    "x.yn(2)\n",
    "\n",
    "// Module access\n",
    "x.O\n",
    "\n",
    "// Type access\n",
    "classOf[x.T]"
   ]
  },
  {
   "cell_type": "markdown",
   "metadata": {},
   "source": [
    "#### A node about `Apply` and `TypeApply`\n",
    "In the virtual AST Scala `Apply` and `TypeApply` nodes have no direct correspondence. They are always resolved according to their semantic context:"
   ]
  },
  {
   "cell_type": "code",
   "execution_count": 24,
   "metadata": {
    "collapsed": false
   },
   "outputs": [
    {
     "name": "stdout",
     "output_type": "stream",
     "text": [
      "Hello, World!\n"
     ]
    },
    {
     "data": {
      "text/plain": [
       "\u001b[36mlist\u001b[0m: \u001b[32mList\u001b[0m[\u001b[32mInt\u001b[0m] = \u001b[33mList\u001b[0m(\u001b[32m1\u001b[0m, \u001b[32m2\u001b[0m, \u001b[32m3\u001b[0m)\n",
       "\u001b[36mres23_2\u001b[0m: \u001b[32mList\u001b[0m[\u001b[32mString\u001b[0m] = \u001b[33mList\u001b[0m()\n",
       "\u001b[36mres23_3\u001b[0m: \u001b[32mInt\u001b[0m = \u001b[32m42\u001b[0m\n",
       "\u001b[36mres23_4\u001b[0m: \u001b[32mInt\u001b[0m = \u001b[32m3\u001b[0m\n",
       "\u001b[36mres23_5\u001b[0m: \u001b[32mString\u001b[0m = \u001b[32m\"[1, 2, 3]\"\u001b[0m\n",
       "\u001b[36mres23_6\u001b[0m: \u001b[32mVector\u001b[0m[\u001b[32mInt\u001b[0m] = \u001b[33mVector\u001b[0m(\u001b[32m1\u001b[0m, \u001b[32m2\u001b[0m, \u001b[32m3\u001b[0m)\n",
       "\u001b[36mres23_7\u001b[0m: \u001b[32mInt\u001b[0m = \u001b[32m2\u001b[0m\n",
       "\u001b[36mres23_8\u001b[0m: \u001b[32mjava\u001b[0m.\u001b[32mutil\u001b[0m.\u001b[32mDate\u001b[0m = Mon Jun 13 10:42:19 CEST 2016\n",
       "\u001b[36mres23_9\u001b[0m: (\u001b[32mString\u001b[0m, \u001b[32mInt\u001b[0m) = \u001b[33m\u001b[0m(\u001b[32m\"Hello\"\u001b[0m, \u001b[32m42\u001b[0m)"
      ]
     },
     "metadata": {},
     "output_type": "display_data"
    }
   ],
   "source": [
    "val list = List(1, 2, 3)\n",
    "\n",
    "// Function calls\n",
    "println(\"Hello, World!\")\n",
    "List.empty[String]\n",
    "identity[Int](42)\n",
    "\n",
    "// Method calls\n",
    "list.size\n",
    "list.mkString(\"[\", \", \", \"]\")\n",
    "list.to[Vector]\n",
    "list.indexOf[AnyVal](3)\n",
    "\n",
    "// Class instantiation\n",
    "new java.util.Date(System.currentTimeMillis())\n",
    "new Tuple2[String, Int](\"Hello\", 42)"
   ]
  },
  {
   "cell_type": "markdown",
   "metadata": {},
   "source": [
    "## Terms"
   ]
  },
  {
   "cell_type": "markdown",
   "metadata": {
    "collapsed": true
   },
   "source": [
    "### References"
   ]
  },
  {
   "cell_type": "markdown",
   "metadata": {},
   "source": [
    "```scala\n",
    "Term.Ref(target: Term.Sym)\n",
    "    = Module.Ref(target)\n",
    "    | Binding.Ref(target)\n",
    "```"
   ]
  },
  {
   "cell_type": "code",
   "execution_count": 25,
   "metadata": {
    "collapsed": false
   },
   "outputs": [
    {
     "data": {
      "text/plain": [
       "defined \u001b[32mobject \u001b[36mO\u001b[0m\n",
       "\u001b[36mres24_1\u001b[0m: \u001b[32mPredef\u001b[0m.type = scala.Predef$@786cd000\n",
       "\u001b[36mres24_2\u001b[0m: \u001b[32m$user\u001b[0m.\u001b[32mO\u001b[0m.type = cmd24$$user$O$@576989f5"
      ]
     },
     "metadata": {},
     "output_type": "display_data"
    }
   ],
   "source": [
    "// Module.Ref(target: Module.Sym)\n",
    "\n",
    "object O\n",
    "Predef // Static\n",
    "O // Dynamic"
   ]
  },
  {
   "cell_type": "markdown",
   "metadata": {},
   "source": [
    "```scala\n",
    "Binding.Ref(target: Binding.Sym)\n",
    "    = Val.Ref(target)\n",
    "    | Var.Ref(target)\n",
    "    | Param.Ref(target)\n",
    "```"
   ]
  },
  {
   "cell_type": "code",
   "execution_count": 26,
   "metadata": {
    "collapsed": false
   },
   "outputs": [
    {
     "data": {
      "text/plain": [
       "\u001b[36mx\u001b[0m: \u001b[32mString\u001b[0m = \u001b[32m\"immutable\"\u001b[0m\n",
       "\u001b[36mres25_1\u001b[0m: \u001b[32mString\u001b[0m = \u001b[32m\"immutable\"\u001b[0m"
      ]
     },
     "metadata": {},
     "output_type": "display_data"
    }
   ],
   "source": [
    "// Val.Ref(target: Val.Sym)\n",
    "\n",
    "val x = \"immutable\"\n",
    "x"
   ]
  },
  {
   "cell_type": "code",
   "execution_count": 27,
   "metadata": {
    "collapsed": false
   },
   "outputs": [
    {
     "data": {
      "text/plain": [
       "\u001b[36mx\u001b[0m: \u001b[32mString\u001b[0m = \u001b[32m\"mutable\"\u001b[0m\n",
       "\u001b[36mres26_1\u001b[0m: \u001b[32mString\u001b[0m = \u001b[32m\"mutable\"\u001b[0m"
      ]
     },
     "metadata": {},
     "output_type": "display_data"
    }
   ],
   "source": [
    "// Var.Ref(target: Var.Sym)\n",
    "\n",
    "var x = \"mutable\"\n",
    "x"
   ]
  },
  {
   "cell_type": "code",
   "execution_count": 6,
   "metadata": {
    "collapsed": false
   },
   "outputs": [
    {
     "data": {
      "text/plain": [
       "defined \u001b[32mfunction \u001b[36mid\u001b[0m\n",
       "\u001b[36mid\u001b[0m: \u001b[32mInt\u001b[0m => \u001b[32mInt\u001b[0m = <function1>"
      ]
     },
     "metadata": {},
     "output_type": "display_data"
    }
   ],
   "source": [
    "// Param.Ref(target: Param.Sym)\n",
    "def id(x: Int /* def */) = x // ref\n",
    "val id = (x: Int /* def */) => x // ref"
   ]
  },
  {
   "cell_type": "markdown",
   "metadata": {},
   "source": [
    "### Literals"
   ]
  },
  {
   "cell_type": "code",
   "execution_count": 7,
   "metadata": {
    "collapsed": false
   },
   "outputs": [
    {
     "data": {
      "text/plain": [
       "\u001b[36mres6_0\u001b[0m: \u001b[32mInt\u001b[0m = \u001b[32m42\u001b[0m\n",
       "\u001b[36mres6_1\u001b[0m: \u001b[32mString\u001b[0m = \u001b[32m\"string\"\u001b[0m\n",
       "\u001b[36mres6_2\u001b[0m: \u001b[32mSymbol\u001b[0m = \u001b[32m'symbol\u001b[0m\n",
       "\u001b[36mres6_3\u001b[0m: \u001b[32mDouble\u001b[0m = \u001b[32m3.14\u001b[0m\n",
       "\u001b[36mres6_4\u001b[0m: \u001b[32mChar\u001b[0m = \u001b[32m'c'\u001b[0m"
      ]
     },
     "metadata": {},
     "output_type": "display_data"
    }
   ],
   "source": [
    "// Term.Lit(value: Any)\n",
    "42\n",
    "\"string\"\n",
    "'symbol\n",
    "3.14\n",
    "'c'"
   ]
  },
  {
   "cell_type": "markdown",
   "metadata": {},
   "source": [
    "### This"
   ]
  },
  {
   "cell_type": "code",
   "execution_count": 28,
   "metadata": {
    "collapsed": false
   },
   "outputs": [
    {
     "data": {
      "text/plain": [
       "defined \u001b[32mobject \u001b[36mO\u001b[0m\n",
       "defined \u001b[32mclass \u001b[36mC\u001b[0m"
      ]
     },
     "metadata": {},
     "output_type": "display_data"
    }
   ],
   "source": [
    "// Term.This(sym: Symbol)\n",
    "\n",
    "object O {\n",
    "    this // sym = module O\n",
    "}\n",
    "\n",
    "class C {\n",
    "    this // sym = class C\n",
    "}"
   ]
  },
  {
   "cell_type": "markdown",
   "metadata": {},
   "source": [
    "### Term Access"
   ]
  },
  {
   "cell_type": "markdown",
   "metadata": {},
   "source": [
    "```scala\n",
    "Term.Access(target: Term, member: Term.Sym)\n",
    "    = Module.Access(target, member)\n",
    "    | Binding.Access(target, member)\n",
    "```"
   ]
  },
  {
   "cell_type": "code",
   "execution_count": 29,
   "metadata": {
    "collapsed": false
   },
   "outputs": [
    {
     "data": {
      "text/plain": [
       "defined \u001b[32mclass \u001b[36mCl\u001b[0m\n",
       "\u001b[36mc\u001b[0m: \u001b[32m$user\u001b[0m.\u001b[32mCl\u001b[0m = cmd28$$user$Cl@619ca9d3\n",
       "\u001b[36mres28_2\u001b[0m: \u001b[32m$user\u001b[0m.\u001b[32mc\u001b[0m.\u001b[32mOut\u001b[0m.type = cmd28$$user$Cl$Out$@49356cab\n",
       "\u001b[36mres28_3\u001b[0m: \u001b[32m$user\u001b[0m.\u001b[32mc\u001b[0m.\u001b[32mOut\u001b[0m.\u001b[32mIn\u001b[0m.type = cmd28$$user$Cl$Out$In$@c71d6f1"
      ]
     },
     "metadata": {},
     "output_type": "display_data"
    }
   ],
   "source": [
    "// Module.Access(target: Term, member: Module.Sym)\n",
    "\n",
    "class Cl { object Out { object In } }\n",
    "val c = new Cl\n",
    "\n",
    "c.Out\n",
    "c.Out.In"
   ]
  },
  {
   "cell_type": "markdown",
   "metadata": {},
   "source": [
    "```scala\n",
    "Binding.Access(target: Term, member: Binding.Sym)\n",
    "    = Val.Access(target, member)\n",
    "    | Var.Access(target, member)\n",
    "```"
   ]
  },
  {
   "cell_type": "code",
   "execution_count": null,
   "metadata": {
    "collapsed": true
   },
   "outputs": [],
   "source": [
    "// Val.Access(target: Term, member: Val.Sym)\n",
    "(1, 2)._1"
   ]
  },
  {
   "cell_type": "code",
   "execution_count": 17,
   "metadata": {
    "collapsed": false
   },
   "outputs": [
    {
     "data": {
      "text/plain": [
       "defined \u001b[32mclass \u001b[36mPt\u001b[0m\n",
       "\u001b[36mres16_1\u001b[0m: \u001b[32mInt\u001b[0m = \u001b[32m0\u001b[0m"
      ]
     },
     "metadata": {},
     "output_type": "display_data"
    }
   ],
   "source": [
    "// Var.Access(target: Term, member: Var.Sym)\n",
    "\n",
    "class Pt(var x: Int, var y: Int)\n",
    "new Pt(0, 0).x"
   ]
  },
  {
   "cell_type": "markdown",
   "metadata": {},
   "source": [
    "### Method/Function Calls\n",
    "- Method calls have a dynamic target.\n",
    "- Function calls have either no target (local method, top-level method) or a static target (static module)."
   ]
  },
  {
   "cell_type": "code",
   "execution_count": 18,
   "metadata": {
    "collapsed": false
   },
   "outputs": [
    {
     "data": {
      "text/plain": [
       "\u001b[36mlist\u001b[0m: \u001b[32mList\u001b[0m[\u001b[32mInt\u001b[0m] = \u001b[33mList\u001b[0m(\u001b[32m1\u001b[0m, \u001b[32m2\u001b[0m, \u001b[32m3\u001b[0m)\n",
       "\u001b[36mres17_1\u001b[0m: \u001b[32mBoolean\u001b[0m = \u001b[32mfalse\u001b[0m\n",
       "\u001b[36mres17_2\u001b[0m: \u001b[32mList\u001b[0m[\u001b[32mInt\u001b[0m] = \u001b[33mList\u001b[0m(\u001b[32m3\u001b[0m)\n",
       "\u001b[36mres17_3\u001b[0m: \u001b[32mInt\u001b[0m = \u001b[32m6\u001b[0m"
      ]
     },
     "metadata": {},
     "output_type": "display_data"
    }
   ],
   "source": [
    "// Method.Call(target: Term, method: Method.Sym, targs: Type*, argss: Term**)\n",
    "\n",
    "val list = List(1, 2, 3)\n",
    "list.isEmpty\n",
    "list.drop(2)\n",
    "list.foldLeft[Int](0) { _ + _ }"
   ]
  },
  {
   "cell_type": "code",
   "execution_count": 19,
   "metadata": {
    "collapsed": false
   },
   "outputs": [
    {
     "name": "stdout",
     "output_type": "stream",
     "text": [
      "42\n"
     ]
    },
    {
     "data": {
      "text/plain": [
       "defined \u001b[32mfunction \u001b[36mshout\u001b[0m\n",
       "\u001b[36mres18_2\u001b[0m: \u001b[32mList\u001b[0m[\u001b[32mString\u001b[0m] = \u001b[33mList\u001b[0m()\n",
       "\u001b[36mres18_3\u001b[0m: \u001b[32mString\u001b[0m = \u001b[32m\"42!!!!!\"\u001b[0m"
      ]
     },
     "metadata": {},
     "output_type": "display_data"
    }
   ],
   "source": [
    "// Function.Call(function: Method.Sym, targs: Type*, argss: Term**)\n",
    "\n",
    "def shout[A](x: A, n: Int) = {\n",
    "    // Nested\n",
    "    def shout(x: String) = s\"$x!\"\n",
    "    var s = x.toString.toUpperCase\n",
    "    for (_ <- 1 to n) s = shout(s)\n",
    "    s\n",
    "}\n",
    "\n",
    "// Static\n",
    "println(42)\n",
    "List.empty[String]\n",
    "\n",
    "// Local\n",
    "shout[Int](42, 5)"
   ]
  },
  {
   "cell_type": "markdown",
   "metadata": {},
   "source": [
    "### Class Instantiation"
   ]
  },
  {
   "cell_type": "code",
   "execution_count": 30,
   "metadata": {
    "collapsed": false
   },
   "outputs": [
    {
     "data": {
      "text/plain": [
       "\u001b[36mres29_0\u001b[0m: (\u001b[32mInt\u001b[0m, \u001b[32mString\u001b[0m) = \u001b[33m\u001b[0m(\u001b[32m1\u001b[0m, \u001b[32m\"2\"\u001b[0m)\n",
       "defined \u001b[32mclass \u001b[36mOut\u001b[0m\n",
       "\u001b[36mo\u001b[0m: \u001b[32m$user\u001b[0m.\u001b[32mOut\u001b[0m = cmd29$$user$Out@5686b446\n",
       "\u001b[36mres29_3\u001b[0m: \u001b[32m$user\u001b[0m.\u001b[32mo\u001b[0m.\u001b[32mIn\u001b[0m = cmd29$$user$Out$In@7c62d40f"
      ]
     },
     "metadata": {},
     "output_type": "display_data"
    }
   ],
   "source": [
    "// Term.Inst(target: Type, targs: Type*, argss: Term**)\n",
    "\n",
    "// Static\n",
    "new Tuple2[Int, String](1, \"2\")\n",
    "\n",
    "class Out { class In }\n",
    "val o = new Out\n",
    "// Dynamic (path-dependent)\n",
    "new o.In"
   ]
  },
  {
   "cell_type": "code",
   "execution_count": 32,
   "metadata": {
    "collapsed": false
   },
   "outputs": [
    {
     "data": {
      "text/plain": [
       "\u001b[36mres31_0\u001b[0m: () => \u001b[32mInt\u001b[0m = <function0>\n",
       "\u001b[36mres31_1\u001b[0m: \u001b[32mString\u001b[0m => \u001b[32mString\u001b[0m = <function1>\n",
       "\u001b[36mres31_2\u001b[0m: \u001b[32mInt\u001b[0m => \u001b[32mInt\u001b[0m => \u001b[32mInt\u001b[0m = <function1>\n",
       "\u001b[36mres31_3\u001b[0m: (\u001b[32mInt\u001b[0m, \u001b[32mInt\u001b[0m) => \u001b[32mInt\u001b[0m = <function2>"
      ]
     },
     "metadata": {},
     "output_type": "display_data"
    }
   ],
   "source": [
    "// Term.Lambda(sym: Lambda.Sym, params: Param.Sym*, body: Term)\n",
    "() => 42\n",
    "(s: String) => s.toUpperCase\n",
    "(x: Int) => (y: Int) => x + y\n",
    "(x: Int, y: Int) => x + y"
   ]
  },
  {
   "cell_type": "code",
   "execution_count": null,
   "metadata": {
    "collapsed": true
   },
   "outputs": [],
   "source": [
    "// Term.Branch\n",
    "if (cond) x // else ()\n",
    "val x = if (1 < 2) 3 else 4"
   ]
  },
  {
   "cell_type": "code",
   "execution_count": null,
   "metadata": {
    "collapsed": true
   },
   "outputs": [],
   "source": [
    "// Term.Block\n",
    "{\n",
    "    var x = 5\n",
    "    x += 2\n",
    "    x\n",
    "}"
   ]
  },
  {
   "cell_type": "code",
   "execution_count": 10,
   "metadata": {
    "collapsed": false
   },
   "outputs": [
    {
     "data": {
      "text/plain": [
       "\u001b[36mres9\u001b[0m: \u001b[32mCharSequence\u001b[0m = x"
      ]
     },
     "metadata": {},
     "output_type": "display_data"
    }
   ],
   "source": [
    "(\"x\": CharSequence)"
   ]
  },
  {
   "cell_type": "markdown",
   "metadata": {},
   "source": [
    "## Statements"
   ]
  },
  {
   "cell_type": "code",
   "execution_count": null,
   "metadata": {
    "collapsed": true
   },
   "outputs": [],
   "source": [
    "// Binding.Def\n",
    "val x = 1\n",
    "var x = 2\n",
    "(x: Int /* def */) => x"
   ]
  },
  {
   "cell_type": "code",
   "execution_count": null,
   "metadata": {
    "collapsed": true
   },
   "outputs": [],
   "source": [
    "// Var.Mut\n",
    "var x = 5\n",
    "x = 4"
   ]
  },
  {
   "cell_type": "code",
   "execution_count": null,
   "metadata": {
    "collapsed": true
   },
   "outputs": [],
   "source": [
    "// Loop.While\n",
    "while (cond) {\n",
    "    \n",
    "}"
   ]
  },
  {
   "cell_type": "code",
   "execution_count": 1,
   "metadata": {
    "collapsed": false
   },
   "outputs": [
    {
     "name": "stdout",
     "output_type": "stream",
     "text": [
      "Adding 19 artifact(s)\n"
     ]
    },
    {
     "data": {
      "text/plain": [
       "\u001b[32mimport \u001b[36mjava.nio.file.Paths\u001b[0m\n",
       "\u001b[36mtestClasses\u001b[0m: \u001b[32mString\u001b[0m = \u001b[32m\"/home/alexander/workspace/java/projects/emma/emma-language/target/test-classes\"\u001b[0m"
      ]
     },
     "metadata": {},
     "output_type": "display_data"
    }
   ],
   "source": [
    "import java.nio.file.Paths\n",
    "\n",
    "// register the maven repository\n",
    "classpath.addRepository(\n",
    "  s\"file://${System.getenv(\"HOME\")}/.m2/repository/\"\n",
    ")\n",
    "\n",
    "// add the required manen modules\n",
    "classpath.add(\"eu.stratosphere\" % \"emma-language\" % \"1.0-SNAPSHOT\")\n",
    "\n",
    "// add the test-classes from emma-language\n",
    "val testClasses = Paths.get(\"../emma-language/target/test-classes\").toAbsolutePath().normalize().toString()\n",
    "classpath.addPath(testClasses)"
   ]
  },
  {
   "cell_type": "markdown",
   "metadata": {},
   "source": [
    "## Compiler Infrastructure\n",
    "\n",
    "Scala offers facilities for both compile-time and runtime reflection (for more information, read the [Reflection Overview](http://docs.scala-lang.org/overviews/reflection/overview.html) documentation).\n",
    "While the two APIs are mostly similar, there are some subtle differences that need to be considered.\n",
    "\n",
    "Emma unifies the two approaches under a single `Compiler` interface with two implementations:\n",
    "\n",
    "- [`MacroCompiler`](https://github.com/stratosphere/emma/blob/newir/emma-language/src/main/scala/eu/stratosphere/emma/compiler/MacroCompiler.scala) (which operates at compile-time), and \n",
    "- [`RuntimeCompiler`](https://github.com/stratosphere/emma/blob/newir/emma-language/src/main/scala/eu/stratosphere/emma/compiler/RuntimeCompiler.scala) (which operates at runtime).\n",
    "\n",
    "This unified approach gives compiler developers the freedom to decide ad-hoc which parts of the compilation pipeline have to be performed statically and which dynamically.\n",
    "\n",
    "The examples below are illustrated based on a `RuntimeCompiler` instance that can be created as follows."
   ]
  },
  {
   "cell_type": "code",
   "execution_count": 2,
   "metadata": {
    "collapsed": false
   },
   "outputs": [
    {
     "data": {
      "text/plain": [
       "\u001b[32mimport \u001b[36meu.stratosphere.emma.compiler.RuntimeCompiler\u001b[0m\n",
       "\u001b[36mcompiler\u001b[0m: \u001b[32meu\u001b[0m.\u001b[32mstratosphere\u001b[0m.\u001b[32memma\u001b[0m.\u001b[32mcompiler\u001b[0m.\u001b[32mRuntimeCompiler\u001b[0m = eu.stratosphere.emma.compiler.RuntimeCompiler@34750a3a"
      ]
     },
     "metadata": {},
     "output_type": "display_data"
    }
   ],
   "source": [
    "import eu.stratosphere.emma.compiler.RuntimeCompiler\n",
    "val compiler = new RuntimeCompiler()"
   ]
  },
  {
   "cell_type": "markdown",
   "metadata": {},
   "source": [
    "Once we have a `Compiler` instance, we can import the (path-dependent) Scala reflection universe."
   ]
  },
  {
   "cell_type": "code",
   "execution_count": 3,
   "metadata": {
    "collapsed": false
   },
   "outputs": [
    {
     "data": {
      "text/plain": [
       "\u001b[32mimport \u001b[36mcompiler.universe._\u001b[0m"
      ]
     },
     "metadata": {},
     "output_type": "display_data"
    }
   ],
   "source": [
    "import compiler.universe._"
   ]
  },
  {
   "cell_type": "markdown",
   "metadata": {},
   "source": [
    "## Compiler Pipelines\n",
    "\n",
    "`Compiler` mixes in a number of traits which introduce compiler functionality in a modular way.\n",
    "\n",
    "Each trait defines a set of stateless transformations that consume a Scala `Tree` and produce a new `Tree`.\n",
    "\n",
    "Compilation pipelines are defined in the so-called *point-free* style by means of chaining such transformation functions using the `andThen` combinator.\n",
    "\n",
    "For example, a trivial compiler pipeline that just typechecks a reified Scala code snippet can be defined as follows."
   ]
  },
  {
   "cell_type": "code",
   "execution_count": 4,
   "metadata": {
    "collapsed": false
   },
   "outputs": [
    {
     "data": {
      "text/plain": [
       "defined \u001b[32mfunction \u001b[36mtypeCheck\u001b[0m"
      ]
     },
     "metadata": {},
     "output_type": "display_data"
    }
   ],
   "source": [
    "def typeCheck[T]: Expr[T] => Tree = {\n",
    "  (_: Expr[T]).tree\n",
    "} andThen {\n",
    "  compiler.Type.check(_: Tree)\n",
    "}"
   ]
  },
  {
   "cell_type": "markdown",
   "metadata": {},
   "source": [
    "To see this pipeline in action, let us reify some code snippets and pass them as arguments to the `typeCheck` function."
   ]
  },
  {
   "cell_type": "code",
   "execution_count": 5,
   "metadata": {
    "collapsed": false
   },
   "outputs": [
    {
     "data": {
      "text/plain": [
       "\u001b[36mQandA\u001b[0m: \u001b[32mTree\u001b[0m = {\n",
       "  val Q: String = \"What is the meaning of Life, the Universe, and Everything?\";\n",
       "  val A: Int = 42;\n",
       "  Tuple2.apply[String, Int](Q, A)\n",
       "}\n",
       "\u001b[36mQuestionAndAnswer\u001b[0m: \u001b[32mTree\u001b[0m = {\n",
       "  val question: String = \"What is the meaning of Life, the Universe, and Everything?\";\n",
       "  val answer: Int = 42;\n",
       "  Tuple2.apply[String, Int](question, answer)\n",
       "}"
      ]
     },
     "metadata": {},
     "output_type": "display_data"
    }
   ],
   "source": [
    "val QandA = typeCheck(reify {\n",
    "  val Q = \"What is the meaning of Life, the Universe, and Everything?\"\n",
    "  val A = 42\n",
    "  (Q, A)\n",
    "})\n",
    "\n",
    "val QuestionAndAnswer = typeCheck(reify {\n",
    "  val question = \"What is the meaning of Life, the Universe, and Everything?\"\n",
    "  val answer = 42\n",
    "  (question, answer)\n",
    "})"
   ]
  },
  {
   "cell_type": "markdown",
   "metadata": {},
   "source": [
    "Trees can be converted to source code with the `compiler.asSource` method."
   ]
  },
  {
   "cell_type": "code",
   "execution_count": 6,
   "metadata": {
    "collapsed": false
   },
   "outputs": [
    {
     "data": {
      "text/markdown": [
       "\n",
       "```scala\n",
       "QandA\n",
       "--------------------------------------------------------------------------------\n",
       "{\n",
       "  val Q = \"What is the meaning of Life, the Universe, and Everything?\";\n",
       "  val A = 42;\n",
       "  Tuple2.apply[String, Int](Q, A)\n",
       "}\n",
       "--------------------------------------------------------------------------------\n",
       "\n",
       "```\n"
      ]
     },
     "metadata": {},
     "output_type": "display_data"
    },
    {
     "data": {
      "text/markdown": [
       "\n",
       "```scala\n",
       "QuestionAndAnswer\n",
       "--------------------------------------------------------------------------------\n",
       "{\n",
       "  val question = \"What is the meaning of Life, the Universe, and Everything?\";\n",
       "  val answer = 42;\n",
       "  Tuple2.apply[String, Int](question, answer)\n",
       "}\n",
       "--------------------------------------------------------------------------------\n",
       "\n",
       "```\n"
      ]
     },
     "metadata": {},
     "output_type": "display_data"
    },
    {
     "data": {
      "text/plain": [
       "defined \u001b[32mfunction \u001b[36masSource\u001b[0m"
      ]
     },
     "metadata": {},
     "output_type": "display_data"
    }
   ],
   "source": [
    "def asSource(name: String)(tree: Tree): Unit = {\n",
    "  import compiler.{asSource}\n",
    "  // print the returned source in a Markdwon block\n",
    "  display.markdown(\n",
    "    s\"\"\"\n",
    "     |```scala\n",
    "     |${compiler.asSource(name)(tree)}\n",
    "     |```\n",
    "     |\"\"\".stripMargin)\n",
    "}\n",
    "\n",
    "asSource(\"QandA\")(QandA)\n",
    "asSource(\"QuestionAndAnswer\")(QuestionAndAnswer)"
   ]
  },
  {
   "cell_type": "markdown",
   "metadata": {},
   "source": [
    "The compiler also offers a function `alphaEq` that can be used to check whether two Scala trees are [alpha equivalent](https://en.wikipedia.org/wiki/Lambda_calculus#Alpha_equivalence)."
   ]
  },
  {
   "cell_type": "code",
   "execution_count": 7,
   "metadata": {
    "collapsed": false
   },
   "outputs": [
    {
     "data": {
      "text/plain": [
       "defined \u001b[32mfunction \u001b[36malphaEq\u001b[0m\n",
       "\u001b[36mres6_1\u001b[0m: \u001b[32mBoolean\u001b[0m = \u001b[32mtrue\u001b[0m"
      ]
     },
     "metadata": {},
     "output_type": "display_data"
    }
   ],
   "source": [
    "def alphaEq(lhs: Tree, rhs: Tree): Boolean = {\n",
    "  import compiler.{alphaEq, Eq, Neq}\n",
    "  import org.scalactic.{Bad, Good, Or}\n",
    "  // returns a Scalactic `Eq Or Neq` value where\n",
    "  //   type Eq = Unit\n",
    "  //   case class Neq(lhs: Tree, rhs: Tree, msg: String)\n",
    "  compiler.alphaEq(lhs, rhs) match { \n",
    "    case Good(_: Eq) => true\n",
    "    case Bad(_: Neq) => false\n",
    "  }\n",
    "}\n",
    "\n",
    "alphaEq(QandA, QuestionAndAnswer)"
   ]
  },
  {
   "cell_type": "markdown",
   "metadata": {},
   "source": [
    "## Example Data\n",
    "\n",
    "For the examples below, we first define some test data."
   ]
  },
  {
   "cell_type": "code",
   "execution_count": 8,
   "metadata": {
    "collapsed": false
   },
   "outputs": [
    {
     "data": {
      "text/plain": [
       "\u001b[32mimport \u001b[36meu.stratosphere.emma.testschema.Literature.{Book,Character}\u001b[0m\n",
       "\u001b[36mhhBook\u001b[0m: \u001b[32meu\u001b[0m.\u001b[32mstratosphere\u001b[0m.\u001b[32memma\u001b[0m.\u001b[32mtestschema\u001b[0m.\u001b[32mLiterature\u001b[0m.\u001b[32mBook\u001b[0m = \u001b[33mBook\u001b[0m(\u001b[32m\"The Hitchhiker's Guide to the Galaxy\"\u001b[0m, \u001b[32m\"Douglas Adams\"\u001b[0m)\n",
       "\u001b[36marthur\u001b[0m: \u001b[32meu\u001b[0m.\u001b[32mstratosphere\u001b[0m.\u001b[32memma\u001b[0m.\u001b[32mtestschema\u001b[0m.\u001b[32mLiterature\u001b[0m.\u001b[32mCharacter\u001b[0m = \u001b[33mCharacter\u001b[0m(\n",
       "  \u001b[32m\"Arthur Dent\"\u001b[0m,\n",
       "  \u001b[33mBook\u001b[0m(\u001b[32m\"The Hitchhiker's Guide to the Galaxy\"\u001b[0m, \u001b[32m\"Douglas Adams\"\u001b[0m)\n",
       ")\n",
       "\u001b[36mzaphod\u001b[0m: \u001b[32meu\u001b[0m.\u001b[32mstratosphere\u001b[0m.\u001b[32memma\u001b[0m.\u001b[32mtestschema\u001b[0m.\u001b[32mLiterature\u001b[0m.\u001b[32mCharacter\u001b[0m = \u001b[33mCharacter\u001b[0m(\n",
       "  \u001b[32m\"Zaphod Beeblebrox\"\u001b[0m,\n",
       "  \u001b[33mBook\u001b[0m(\u001b[32m\"The Hitchhiker's Guide to the Galaxy\"\u001b[0m, \u001b[32m\"Douglas Adams\"\u001b[0m)\n",
       ")\n",
       "\u001b[36mjeltz\u001b[0m: \u001b[32meu\u001b[0m.\u001b[32mstratosphere\u001b[0m.\u001b[32memma\u001b[0m.\u001b[32mtestschema\u001b[0m.\u001b[32mLiterature\u001b[0m.\u001b[32mCharacter\u001b[0m = \u001b[33mCharacter\u001b[0m(\n",
       "  \u001b[32m\"Prostetnic Vogon Jeltz\"\u001b[0m,\n",
       "  \u001b[33mBook\u001b[0m(\u001b[32m\"The Hitchhiker's Guide to the Galaxy\"\u001b[0m, \u001b[32m\"Douglas Adams\"\u001b[0m)\n",
       ")"
      ]
     },
     "metadata": {},
     "output_type": "display_data"
    }
   ],
   "source": [
    "import eu.stratosphere.emma.testschema.Literature.{Book,Character}\n",
    "\n",
    "val hhBook = Book(\"The Hitchhiker's Guide to the Galaxy\", \"Douglas Adams\")\n",
    "\n",
    "val arthur = Character(\"Arthur Dent\", hhBook)\n",
    "val zaphod = Character(\"Zaphod Beeblebrox\", hhBook)\n",
    "val jeltz  = Character(\"Prostetnic Vogon Jeltz\", hhBook)"
   ]
  },
  {
   "cell_type": "markdown",
   "metadata": {},
   "source": [
    "## Language Constructs\n",
    "\n",
    "The [`Source`](https://github.com/stratosphere/emma/blob/newir/emma-language/src/main/scala/eu/stratosphere/emma/compiler/lang/Source.scala) trait defines a `Source` object that contains facilities for handling Emma Source expressions."
   ]
  },
  {
   "cell_type": "code",
   "execution_count": 9,
   "metadata": {
    "collapsed": false
   },
   "outputs": [
    {
     "data": {
      "text/plain": [
       "\u001b[32mimport \u001b[36mcompiler.Source\u001b[0m"
      ]
     },
     "metadata": {},
     "output_type": "display_data"
    }
   ],
   "source": [
    "import compiler.Source"
   ]
  },
  {
   "cell_type": "markdown",
   "metadata": {},
   "source": [
    "`Source.Language` contains objects that represent the primitive constructs that form the Emma Source language (i.e., the set of symbos in the Emma Source grammar)."
   ]
  },
  {
   "cell_type": "code",
   "execution_count": 10,
   "metadata": {
    "collapsed": false
   },
   "outputs": [
    {
     "data": {
      "text/plain": [
       "\u001b[32mimport \u001b[36mSource.Language._\u001b[0m"
      ]
     },
     "metadata": {},
     "output_type": "display_data"
    }
   ],
   "source": [
    "import Source.Language._"
   ]
  },
  {
   "cell_type": "markdown",
   "metadata": {},
   "source": [
    "The obvious way to represent Emma Language programs is directly, i.e. through trees over the primitive constructs defined in `Source.Language`.\n",
    "\n",
    "Instead of taking this route, we reuse Scala ASTs as an underlying program representation model. This allows us to reuse much of the infrastructure already provided by Scala's reflection API and keep the Emma codebase small.\n",
    "\n",
    "Each `Source.Language` object serves as a bidirectional mapping between the Emma Source construct and its corresponding Scala AST representation.\n",
    "\n",
    "As such, it offers means to\n",
    "\n",
    "- extract instances of the modeled construct from a Scala `Tree` (using the `unapply` method), as well as to \n",
    "- create a Scala `Tree` that represents an instance of the modeled construct (using the `apply` method).\n",
    "\n",
    "In the sections below we provide an overview of the supported constructs (as quoted Scala source code), along with small construction and pattern matching examples."
   ]
  },
  {
   "cell_type": "markdown",
   "metadata": {
    "collapsed": false
   },
   "source": [
    "### Atomic Expressions\n",
    "\n",
    "Atomic expressions are either \n",
    "\n",
    "- literals (modeled by `lit`), or \n",
    "- references (modeled by `ref`)."
   ]
  },
  {
   "cell_type": "markdown",
   "metadata": {},
   "source": [
    "#### Literals"
   ]
  },
  {
   "cell_type": "code",
   "execution_count": 11,
   "metadata": {
    "collapsed": false
   },
   "outputs": [
    {
     "data": {
      "text/plain": [
       "\u001b[36mcode\u001b[0m: \u001b[32mTree\u001b[0m = {\n",
       "  \"What is the meaning of Life, the Universe, and Everything?\";\n",
       "  42\n",
       "}\n",
       "\u001b[36mact\u001b[0m: \u001b[32mSeq\u001b[0m[\u001b[32mTree\u001b[0m] = \u001b[33mList\u001b[0m(\"What is the meaning of Life, the Universe, and Everything?\", 42)\n",
       "\u001b[36mexp\u001b[0m: \u001b[32mSeq\u001b[0m[\u001b[32mTree\u001b[0m] = \u001b[33mList\u001b[0m(\"What is the meaning of Life, the Universe, and Everything?\", 42)\n",
       "\u001b[36mres10_3\u001b[0m: \u001b[32mBoolean\u001b[0m = \u001b[32mtrue\u001b[0m"
      ]
     },
     "metadata": {},
     "output_type": "display_data"
    }
   ],
   "source": [
    "// code quotation\n",
    "val code: Tree = typeCheck(reify {\n",
    "  \"What is the meaning of Life, the Universe, and Everything?\"\n",
    "  42\n",
    "})\n",
    "\n",
    "// tree matching\n",
    "val act: Seq[Tree] = code collect {\n",
    "  case tree@lit(_) => tree\n",
    "}\n",
    "\n",
    "// tree construction\n",
    "val exp: Seq[Tree] = act map {\n",
    "  case lit(v) => lit(v)\n",
    "}\n",
    "\n",
    "// alpha-equivalence check\n",
    "(act zip exp) forall ((alphaEq _).tupled)"
   ]
  },
  {
   "cell_type": "markdown",
   "metadata": {},
   "source": [
    "#### References"
   ]
  },
  {
   "cell_type": "code",
   "execution_count": 12,
   "metadata": {
    "collapsed": false
   },
   "outputs": [
    {
     "data": {
      "text/plain": [
       "\u001b[36mcode\u001b[0m: \u001b[32mTree\u001b[0m = {\n",
       "  cmd11.$ref$cmd7.arthur;\n",
       "  cmd11.$ref$cmd7.zaphod\n",
       "}\n",
       "\u001b[36mact\u001b[0m: \u001b[32mSeq\u001b[0m[\u001b[32mTree\u001b[0m] = \u001b[33mList\u001b[0m(cmd11, cmd11)\n",
       "\u001b[36mexp\u001b[0m: \u001b[32mSeq\u001b[0m[\u001b[32mTree\u001b[0m] = \u001b[33mList\u001b[0m(cmd11, cmd11)\n",
       "\u001b[36mres11_3\u001b[0m: \u001b[32mBoolean\u001b[0m = \u001b[32mtrue\u001b[0m"
      ]
     },
     "metadata": {},
     "output_type": "display_data"
    }
   ],
   "source": [
    "// code quotation\n",
    "val code: Tree = typeCheck(reify {\n",
    "  arthur\n",
    "  zaphod\n",
    "})\n",
    "\n",
    "// tree matching\n",
    "val act: Seq[Tree] = code collect {\n",
    "  case tree@ref(_) => tree\n",
    "}\n",
    "\n",
    "// tree construction\n",
    "val exp: Seq[Tree] = act map {\n",
    "  case ref(sym) => ref(sym)\n",
    "}\n",
    "\n",
    "// alpha-equivalence check\n",
    "(act zip exp) forall ((alphaEq _).tupled)"
   ]
  },
  {
   "cell_type": "markdown",
   "metadata": {
    "collapsed": true
   },
   "source": [
    "### Terms\n",
    "\n",
    "Valid terms are all literals, as well as\n",
    "\n",
    "- selections (modeled by `sel`),\n",
    "- applications (modeled by `app`),\n",
    "- class instantiations (modeled by `inst`),\n",
    "- lambda terms (modeled by `lambda`),\n",
    "- type ascriptions (modeled by `typed`).\n",
    "\n",
    "Terms can be constructed from other terms as long as the composition type-safe. Since the Emma compiler operates on typechecked Scala ASTs, we can always assume (as a precondition) that this is always the case. To keep this constraint invariant, tranformations implemented in the Emma compiler must be sound with respect to the typing rules."
   ]
  },
  {
   "cell_type": "markdown",
   "metadata": {},
   "source": [
    "#### Selections"
   ]
  },
  {
   "cell_type": "code",
   "execution_count": 13,
   "metadata": {
    "collapsed": false
   },
   "outputs": [
    {
     "data": {
      "text/plain": [
       "\u001b[36mcode\u001b[0m: \u001b[32mTree\u001b[0m = {\n",
       "  cmd12.$ref$cmd7.arthur.name;\n",
       "  cmd12.$ref$cmd7.zaphod.name\n",
       "}\n",
       "\u001b[36mact\u001b[0m: \u001b[32mSeq\u001b[0m[\u001b[32mTree\u001b[0m] = \u001b[33mList\u001b[0m(\n",
       "  cmd12.$ref$cmd7.arthur.name,\n",
       "  cmd12.$ref$cmd7.arthur,\n",
       "  cmd12.$ref$cmd7,\n",
       "  cmd12.$ref$cmd7.zaphod.name,\n",
       "  cmd12.$ref$cmd7.zaphod,\n",
       "  cmd12.$ref$cmd7\n",
       ")\n",
       "\u001b[36mexp\u001b[0m: \u001b[32mSeq\u001b[0m[\u001b[32mTree\u001b[0m] = \u001b[33mList\u001b[0m(\n",
       "  cmd12.$ref$cmd7.arthur.name,\n",
       "  cmd12.$ref$cmd7.arthur,\n",
       "  cmd12.$ref$cmd7,\n",
       "  cmd12.$ref$cmd7.zaphod.name,\n",
       "  cmd12.$ref$cmd7.zaphod,\n",
       "  cmd12.$ref$cmd7\n",
       ")\n",
       "\u001b[36mres12_3\u001b[0m: \u001b[32mBoolean\u001b[0m = \u001b[32mtrue\u001b[0m"
      ]
     },
     "metadata": {},
     "output_type": "display_data"
    }
   ],
   "source": [
    "// code\n",
    "val code = typeCheck(reify {\n",
    "  arthur.name\n",
    "  zaphod.name\n",
    "})\n",
    "\n",
    "// tree matching\n",
    "val act: Seq[Tree] = code collect {\n",
    "  case tree@sel(_, _) => tree\n",
    "}\n",
    "\n",
    "// tree construction\n",
    "val exp: Seq[Tree] = act map {\n",
    "  case sel(tgt, sym) => sel(tgt, sym)\n",
    "}\n",
    "\n",
    "// alpha-equivalence check\n",
    "(act zip exp) forall ((alphaEq _).tupled)"
   ]
  },
  {
   "cell_type": "markdown",
   "metadata": {},
   "source": [
    "#### Applications"
   ]
  },
  {
   "cell_type": "code",
   "execution_count": 14,
   "metadata": {
    "collapsed": false
   },
   "outputs": [
    {
     "data": {
      "text/plain": [
       "\u001b[36mcode\u001b[0m: \u001b[32mTree\u001b[0m = {\n",
       "  Literature.Character.apply(\"Trillian\", cmd13.$ref$cmd7.hhBook);\n",
       "  Literature.Character.apply(\"Marvin\", cmd13.$ref$cmd7.hhBook)\n",
       "}\n",
       "\u001b[36mact\u001b[0m: \u001b[32mSeq\u001b[0m[\u001b[32mTree\u001b[0m] = \u001b[33mList\u001b[0m(\n",
       "  Literature.Character.apply(\"Trillian\", cmd13.$ref$cmd7.hhBook),\n",
       "  Literature.Character.apply(\"Marvin\", cmd13.$ref$cmd7.hhBook)\n",
       ")\n",
       "\u001b[36mexp\u001b[0m: \u001b[32mSeq\u001b[0m[\u001b[32mTree\u001b[0m] = \u001b[33mList\u001b[0m(\n",
       "  Literature.Character.apply(\"Trillian\", cmd13.$ref$cmd7.hhBook),\n",
       "  Literature.Character.apply(\"Marvin\", cmd13.$ref$cmd7.hhBook)\n",
       ")\n",
       "\u001b[36mres13_3\u001b[0m: \u001b[32mBoolean\u001b[0m = \u001b[32mtrue\u001b[0m"
      ]
     },
     "metadata": {},
     "output_type": "display_data"
    }
   ],
   "source": [
    "// code\n",
    "val code = typeCheck(reify {\n",
    "  Character(\"Trillian\", hhBook)\n",
    "  Character(\"Marvin\", hhBook)\n",
    "})\n",
    "\n",
    "// tree matching\n",
    "val act: Seq[Tree] = code collect {\n",
    "  case tree@app(_, _, _@_*) => tree\n",
    "}\n",
    "\n",
    "// tree construction\n",
    "val exp: Seq[Tree] = act map {\n",
    "  case app(fn, targs, argss@_*) => app(fn, targs: _*)(argss: _*)\n",
    "}\n",
    "\n",
    "// alpha-equivalence check\n",
    "(act zip exp) forall ((alphaEq _).tupled)"
   ]
  },
  {
   "cell_type": "markdown",
   "metadata": {},
   "source": [
    "#### Class Instantiations"
   ]
  },
  {
   "cell_type": "code",
   "execution_count": 15,
   "metadata": {
    "collapsed": false
   },
   "outputs": [
    {
     "data": {
      "text/plain": [
       "\u001b[36mcode\u001b[0m: \u001b[32mTree\u001b[0m = {\n",
       "  new Literature.Character(\"Trillian\", cmd14.$ref$cmd7.hhBook);\n",
       "  new Literature.Character(\"Marvin\", cmd14.$ref$cmd7.hhBook)\n",
       "}\n",
       "\u001b[36mact\u001b[0m: \u001b[32mSeq\u001b[0m[\u001b[32mTree\u001b[0m] = \u001b[33mList\u001b[0m(\n",
       "  new Literature.Character(\"Trillian\", cmd14.$ref$cmd7.hhBook),\n",
       "  new Literature.Character(\"Marvin\", cmd14.$ref$cmd7.hhBook)\n",
       ")\n",
       "\u001b[36mexp\u001b[0m: \u001b[32mSeq\u001b[0m[\u001b[32mTree\u001b[0m] = \u001b[33mList\u001b[0m(\n",
       "  new eu.stratosphere.emma.testschema.Literature.Character(\"Trillian\", cmd14.$ref$cmd7.hhBook),\n",
       "  new eu.stratosphere.emma.testschema.Literature.Character(\"Marvin\", cmd14.$ref$cmd7.hhBook)\n",
       ")\n",
       "\u001b[36mres14_3\u001b[0m: \u001b[32mBoolean\u001b[0m = \u001b[32mtrue\u001b[0m"
      ]
     },
     "metadata": {},
     "output_type": "display_data"
    }
   ],
   "source": [
    "// code\n",
    "val code = typeCheck(reify {\n",
    "  new Character(\"Trillian\", hhBook)\n",
    "  new Character(\"Marvin\", hhBook)\n",
    "})\n",
    "\n",
    "// tree matching\n",
    "val act: Seq[Tree] = code collect {\n",
    "  case tree@inst(_, _, _@_*) => tree\n",
    "}\n",
    "\n",
    "// tree construction\n",
    "val exp: Seq[Tree] = act map {\n",
    "  case inst(clazz, targs, argss@_*) => inst(clazz, targs: _*)(argss: _*)\n",
    "}\n",
    "\n",
    "// alpha-equivalence check\n",
    "(act zip exp) forall ((alphaEq _).tupled)"
   ]
  },
  {
   "cell_type": "markdown",
   "metadata": {},
   "source": [
    "#### Lambdas"
   ]
  },
  {
   "cell_type": "code",
   "execution_count": 16,
   "metadata": {
    "collapsed": false
   },
   "outputs": [
    {
     "data": {
      "text/plain": [
       "\u001b[36mcode\u001b[0m: \u001b[32mTree\u001b[0m = ((x: eu.stratosphere.emma.testschema.Literature.Character) => x.name)\n",
       "\u001b[36mact\u001b[0m: \u001b[32mSeq\u001b[0m[\u001b[32mTree\u001b[0m] = \u001b[33mList\u001b[0m(((x: eu.stratosphere.emma.testschema.Literature.Character) => x.name))\n",
       "\u001b[36mexp\u001b[0m: \u001b[32mSeq\u001b[0m[\u001b[32mTree\u001b[0m] = \u001b[33mList\u001b[0m(((x: eu.stratosphere.emma.testschema.Literature.Character) => x.name))\n",
       "\u001b[36mres15_3\u001b[0m: \u001b[32mBoolean\u001b[0m = \u001b[32mtrue\u001b[0m"
      ]
     },
     "metadata": {},
     "output_type": "display_data"
    }
   ],
   "source": [
    "// code\n",
    "val code = typeCheck(reify {\n",
    "  (x: Character) => x.name\n",
    "})\n",
    "\n",
    "// tree matching\n",
    "val act: Seq[Tree] = code collect {\n",
    "  case tree@lambda(_, _, _) => tree\n",
    "} map { tree =>\n",
    "  compiler.Owner.at(compiler.Owner.enclosing)(tree)\n",
    "}\n",
    "\n",
    "// tree construction\n",
    "val exp: Seq[Tree] = act map {\n",
    "  case lambda(sym, params, body) => lambda(params: _*)(body)\n",
    "} map { tree =>\n",
    "  compiler.Owner.at(compiler.Owner.enclosing)(tree)\n",
    "}\n",
    "\n",
    "// alpha-equivalence check\n",
    "(act zip exp) forall ((alphaEq _).tupled)"
   ]
  },
  {
   "cell_type": "markdown",
   "metadata": {
    "collapsed": true
   },
   "source": [
    "#### Type-Ascribed Trees"
   ]
  },
  {
   "cell_type": "code",
   "execution_count": 17,
   "metadata": {
    "collapsed": false
   },
   "outputs": [
    {
     "data": {
      "text/plain": [
       "\u001b[36mcode\u001b[0m: \u001b[32mTree\u001b[0m = {\n",
       "  (cmd16.$ref$cmd7.zaphod: eu.stratosphere.emma.testschema.Literature.Character);\n",
       "  (cmd16.$ref$cmd7.jeltz: eu.stratosphere.emma.testschema.Literature.Character)\n",
       "}\n",
       "\u001b[36mact\u001b[0m: \u001b[32mSeq\u001b[0m[\u001b[32mTree\u001b[0m] = \u001b[33mList\u001b[0m(\n",
       "  (cmd16.$ref$cmd7.zaphod: eu.stratosphere.emma.testschema.Literature.Character),\n",
       "  (cmd16.$ref$cmd7.jeltz: eu.stratosphere.emma.testschema.Literature.Character)\n",
       ")\n",
       "\u001b[36mexp\u001b[0m: \u001b[32mSeq\u001b[0m[\u001b[32mTree\u001b[0m] = \u001b[33mList\u001b[0m(\n",
       "  (cmd16.$ref$cmd7.zaphod: eu.stratosphere.emma.testschema.Literature.Character),\n",
       "  (cmd16.$ref$cmd7.jeltz: eu.stratosphere.emma.testschema.Literature.Character)\n",
       ")\n",
       "\u001b[36mres16_3\u001b[0m: \u001b[32mBoolean\u001b[0m = \u001b[32mtrue\u001b[0m"
      ]
     },
     "metadata": {},
     "output_type": "display_data"
    }
   ],
   "source": [
    "// code\n",
    "val code = typeCheck(reify {\n",
    "  (zaphod: Character)\n",
    "  (jeltz: Character)\n",
    "})\n",
    "\n",
    "// tree matching\n",
    "val act: Seq[Tree] = code collect {\n",
    "  case tree@typed(_, _) => tree\n",
    "}\n",
    "\n",
    "// tree construction\n",
    "val exp: Seq[Tree] = act map {\n",
    "  case typed(tree, tpe) => typed(tree, tpe)\n",
    "}\n",
    "\n",
    "// alpha-equivalence check\n",
    "(act zip exp) forall ((alphaEq _).tupled)"
   ]
  },
  {
   "cell_type": "markdown",
   "metadata": {},
   "source": [
    "### State\n",
    "\n",
    "Terms can be given a name that can be later referenced in a value definition (modeled by `val_`). \n",
    "\n",
    "Mutable names are allowed at this level and can be reassigned to a new value (modeled by `assign`).\n",
    "\n",
    "Sequential composition of value definitions and terms yields a block (modeled by `block`), which decomposes into a sequence of statements (`stats`) and a final return expression (`expr`)."
   ]
  },
  {
   "cell_type": "code",
   "execution_count": 18,
   "metadata": {
    "collapsed": false
   },
   "outputs": [
    {
     "data": {
      "text/plain": [
       "\u001b[36mcode\u001b[0m: \u001b[32mTree\u001b[0m = {\n",
       "  val trillian: eu.stratosphere.emma.testschema.Literature.Character = new Literature.Character(\"Trillian\", cmd17.$ref$cmd7.hhBook);\n",
       "  var marvin: eu.stratosphere.emma.testschema.Literature.Character = Literature.Character.apply(\"Marwin\", cmd17.$ref$cmd7.hhBook);\n",
       "  marvin = new Literature.Character(\"Marwin\", cmd17.$ref$cmd7.hhBook);\n",
       "  StringContext.apply(\"\", \" and \", \" are friends\").s(trillian.name, marvin.name)\n",
       "}"
      ]
     },
     "metadata": {},
     "output_type": "display_data"
    }
   ],
   "source": [
    "// code\n",
    "val code = typeCheck(reify {\n",
    "  // block statements\n",
    "  val trillian = new Character(\"Trillian\", hhBook)   // immutable value definition\n",
    "  var marvin   = Character(\"Marwin\", hhBook)         // mutable value definition\n",
    "  marvin       = new Character(\"Marwin\", hhBook)     // mutable value assignment\n",
    "  // block return expression\n",
    "  s\"${trillian.name} and ${marvin.name} are friends\" // a composite term\n",
    "})"
   ]
  },
  {
   "cell_type": "markdown",
   "metadata": {},
   "source": [
    "#### Value Definitions"
   ]
  },
  {
   "cell_type": "code",
   "execution_count": 19,
   "metadata": {
    "collapsed": false
   },
   "outputs": [
    {
     "data": {
      "text/plain": [
       "\u001b[36mact\u001b[0m: \u001b[32mSeq\u001b[0m[\u001b[32mTree\u001b[0m] = \u001b[33mList\u001b[0m(\n",
       "  val trillian: eu.stratosphere.emma.testschema.Literature.Character = new Literature.Character(\"Trillian\", cmd17.$ref$cmd7.hhBook),\n",
       "  var marvin: eu.stratosphere.emma.testschema.Literature.Character = Literature.Character.apply(\"Marwin\", cmd17.$ref$cmd7.hhBook)\n",
       ")\n",
       "\u001b[36mexp\u001b[0m: \u001b[32mSeq\u001b[0m[\u001b[32mTree\u001b[0m] = \u001b[33mList\u001b[0m(\n",
       "  val trillian: eu.stratosphere.emma.testschema.Literature.Character = new Literature.Character(\"Trillian\", cmd17.$ref$cmd7.hhBook),\n",
       "  var marvin: eu.stratosphere.emma.testschema.Literature.Character = Literature.Character.apply(\"Marwin\", cmd17.$ref$cmd7.hhBook)\n",
       ")\n",
       "\u001b[36mres18_2\u001b[0m: \u001b[32mBoolean\u001b[0m = \u001b[32mtrue\u001b[0m"
      ]
     },
     "metadata": {},
     "output_type": "display_data"
    }
   ],
   "source": [
    "// tree matching\n",
    "val act: Seq[Tree] = code collect {\n",
    "  case tree@val_(_, _, _) => tree\n",
    "}\n",
    "\n",
    "// tree construction\n",
    "val exp: Seq[Tree] = act map {\n",
    "  case val_(lhs, rhs, flags) => val_(lhs, rhs, flags)\n",
    "}\n",
    "\n",
    "// alpha-equivalence check\n",
    "(act zip exp) forall ((alphaEq _).tupled)"
   ]
  },
  {
   "cell_type": "markdown",
   "metadata": {},
   "source": [
    "#### Assignments"
   ]
  },
  {
   "cell_type": "code",
   "execution_count": 20,
   "metadata": {
    "collapsed": false
   },
   "outputs": [
    {
     "data": {
      "text/plain": [
       "\u001b[36mact\u001b[0m: \u001b[32mSeq\u001b[0m[\u001b[32mTree\u001b[0m] = \u001b[33mList\u001b[0m(marvin = new Literature.Character(\"Marwin\", cmd17.$ref$cmd7.hhBook))\n",
       "\u001b[36mexp\u001b[0m: \u001b[32mSeq\u001b[0m[\u001b[32mTree\u001b[0m] = \u001b[33mList\u001b[0m(marvin = new Literature.Character(\"Marwin\", cmd17.$ref$cmd7.hhBook))\n",
       "\u001b[36mres19_2\u001b[0m: \u001b[32mBoolean\u001b[0m = \u001b[32mtrue\u001b[0m"
      ]
     },
     "metadata": {},
     "output_type": "display_data"
    }
   ],
   "source": [
    "// tree matching\n",
    "val act: Seq[Tree] = code collect {\n",
    "  case tree@assign(_, _) => tree\n",
    "}\n",
    "\n",
    "// tree construction\n",
    "val exp: Seq[Tree] = act map {\n",
    "  case assign(lhs, rhs) => assign(lhs, rhs)\n",
    "}\n",
    "\n",
    "// alpha-equivalence check\n",
    "(act zip exp) forall ((alphaEq _).tupled)"
   ]
  },
  {
   "cell_type": "markdown",
   "metadata": {},
   "source": [
    "#### Blocks"
   ]
  },
  {
   "cell_type": "code",
   "execution_count": 21,
   "metadata": {
    "collapsed": false
   },
   "outputs": [
    {
     "data": {
      "text/plain": [
       "\u001b[36mact\u001b[0m: \u001b[32mSeq\u001b[0m[\u001b[32mTree\u001b[0m] = \u001b[33mList\u001b[0m(\n",
       "  {\n",
       "  val trillian: eu.stratosphere.emma.testschema.Literature.Character = new Literature.Character(\"Trillian\", cmd17.$ref$cmd7.hhBook);\n",
       "  var marvin: eu.stratosphere.emma.testschema.Literature.Character = Literature.Character.apply(\"Marwin\", cmd17.$ref$cmd7.hhBook);\n",
       "  marvin = new Literature.Character(\"Marwin\", cmd17.$ref$cmd7.hhBook);\n",
       "  StringContext.apply(\"\", \" and \", \" are friends\").s(trillian.name, marvin.name)\n",
       "}\n",
       ")\n",
       "\u001b[36mexp\u001b[0m: \u001b[32mSeq\u001b[0m[\u001b[32mTree\u001b[0m] = \u001b[33mList\u001b[0m(\n",
       "  {\n",
       "  val trillian: eu.stratosphere.emma.testschema.Literature.Character = new Literature.Character(\"Trillian\", cmd17.$ref$cmd7.hhBook);\n",
       "  var marvin: eu.stratosphere.emma.testschema.Literature.Character = Literature.Character.apply(\"Marwin\", cmd17.$ref$cmd7.hhBook);\n",
       "  marvin = new Literature.Character(\"Marwin\", cmd17.$ref$cmd7.hhBook);\n",
       "  StringContext.apply(\"\", \" and \", \" are friends\").s(trillian.name, marvin.name)\n",
       "}\n",
       ")\n",
       "\u001b[36mres20_2\u001b[0m: \u001b[32mBoolean\u001b[0m = \u001b[32mtrue\u001b[0m"
      ]
     },
     "metadata": {},
     "output_type": "display_data"
    }
   ],
   "source": [
    "// tree matching\n",
    "val act: Seq[Tree] = code collect {\n",
    "  case tree@block(_, _) => tree\n",
    "}\n",
    "\n",
    "// tree construction\n",
    "val exp: Seq[Tree] = act map {\n",
    "  case block(stats, expr) => block(stats, expr)\n",
    "}\n",
    "\n",
    "// alpha-equivalence check\n",
    "(act zip exp) forall ((alphaEq _).tupled)"
   ]
  },
  {
   "cell_type": "markdown",
   "metadata": {},
   "source": [
    "### Control Flow"
   ]
  },
  {
   "cell_type": "markdown",
   "metadata": {},
   "source": [
    "Control flow is supported through the following constructs: \n",
    "\n",
    "- if-then-else statements (modeled by `branch`),\n",
    "- while-do loops (modeled by `dowhile`), and\n",
    "- while-do loops (modeled by `whiledo`)."
   ]
  },
  {
   "cell_type": "markdown",
   "metadata": {},
   "source": [
    "#### If-Then-Else Expressions"
   ]
  },
  {
   "cell_type": "code",
   "execution_count": 22,
   "metadata": {
    "collapsed": false
   },
   "outputs": [
    {
     "data": {
      "text/plain": [
       "\u001b[36mcode\u001b[0m: \u001b[32mTree\u001b[0m = if (cmd21.$ref$cmd7.zaphod.name.startsWith(\"Zaphod\"))\n",
       "  cmd21.$ref$cmd7.zaphod.name\n",
       "else\n",
       "  \"Zaphod\"\n",
       "\u001b[36mact\u001b[0m: \u001b[32mSeq\u001b[0m[\u001b[32mTree\u001b[0m] = \u001b[33mList\u001b[0m(\n",
       "  if (cmd21.$ref$cmd7.zaphod.name.startsWith(\"Zaphod\"))\n",
       "  cmd21.$ref$cmd7.zaphod.name\n",
       "else\n",
       "  \"Zaphod\"\n",
       ")\n",
       "\u001b[36mexp\u001b[0m: \u001b[32mSeq\u001b[0m[\u001b[32mTree\u001b[0m] = \u001b[33mList\u001b[0m(\n",
       "  if (cmd21.$ref$cmd7.zaphod.name.startsWith(\"Zaphod\"))\n",
       "  cmd21.$ref$cmd7.zaphod.name\n",
       "else\n",
       "  \"Zaphod\"\n",
       ")\n",
       "\u001b[36mres21_3\u001b[0m: \u001b[32mBoolean\u001b[0m = \u001b[32mtrue\u001b[0m"
      ]
     },
     "metadata": {},
     "output_type": "display_data"
    }
   ],
   "source": [
    "// code\n",
    "val code = typeCheck(reify {\n",
    "  if (zaphod.name.startsWith(\"Zaphod\")) \n",
    "    zaphod.name\n",
    "  else\n",
    "    \"Zaphod\"\n",
    "})\n",
    "\n",
    "// tree matching\n",
    "val act: Seq[Tree] = code collect {\n",
    "  case tree@branch(_, _, _) => tree\n",
    "}\n",
    "\n",
    "// tree construction\n",
    "val exp: Seq[Tree] = act map {\n",
    "  case branch(cond, thn, els) => branch(cond, thn, els)\n",
    "}\n",
    "\n",
    "// alpha-equivalence check\n",
    "(act zip exp) forall ((alphaEq _).tupled)"
   ]
  },
  {
   "cell_type": "markdown",
   "metadata": {},
   "source": [
    "#### While-Do Loops"
   ]
  },
  {
   "cell_type": "code",
   "execution_count": 23,
   "metadata": {
    "collapsed": false
   },
   "outputs": [
    {
     "data": {
      "text/plain": [
       "\u001b[36mcode\u001b[0m: \u001b[32mTree\u001b[0m = {\n",
       "  var name: String = cmd22.$ref$cmd7.zaphod.name;\n",
       "  while$1(){\n",
       "    if (name.isEmpty().unary_!)\n",
       "      {\n",
       "        name = Predef.augmentString(name).tail;\n",
       "        while$1()\n",
       "      }\n",
       "    else\n",
       "      ()\n",
       "  }\n",
       "}\n",
       "\u001b[36mact\u001b[0m: \u001b[32mSeq\u001b[0m[\u001b[32mTree\u001b[0m] = \u001b[33mList\u001b[0m(\n",
       "  while$1(){\n",
       "  if (name.isEmpty().unary_!)\n",
       "    {\n",
       "      name = Predef.augmentString(name).tail;\n",
       "      while$1()\n",
       "    }\n",
       "  else\n",
       "    ()\n",
       "}\n",
       ")\n",
       "\u001b[36mexp\u001b[0m: \u001b[32mSeq\u001b[0m[\u001b[32mTree\u001b[0m] = \u001b[33mList\u001b[0m(\n",
       "  while$1(){\n",
       "  if (name.isEmpty().unary_!)\n",
       "    {\n",
       "      name = Predef.augmentString(name).tail;\n",
       "      while$1()\n",
       "    }\n",
       "  else\n",
       "    ()\n",
       "}\n",
       ")\n",
       "\u001b[36mres22_3\u001b[0m: \u001b[32mBoolean\u001b[0m = \u001b[32mtrue\u001b[0m"
      ]
     },
     "metadata": {},
     "output_type": "display_data"
    }
   ],
   "source": [
    "// code\n",
    "val code = typeCheck(reify {\n",
    "  var name = zaphod.name\n",
    "  while (!name.isEmpty) {\n",
    "    name = name.tail\n",
    "  }\n",
    "})\n",
    "\n",
    "// tree matching\n",
    "val act: Seq[Tree] = code collect {\n",
    "  case tree@whiledo(_, _) => tree\n",
    "}\n",
    "\n",
    "// tree construction\n",
    "val exp: Seq[Tree] = act map {\n",
    "  case whiledo(cond, body) => whiledo(cond, body)\n",
    "}\n",
    "\n",
    "// alpha-equivalence check\n",
    "(act zip exp) forall ((alphaEq _).tupled)"
   ]
  },
  {
   "cell_type": "markdown",
   "metadata": {},
   "source": [
    "#### Do While Loops"
   ]
  },
  {
   "cell_type": "code",
   "execution_count": 24,
   "metadata": {
    "collapsed": false
   },
   "outputs": [
    {
     "data": {
      "text/plain": [
       "\u001b[36mcode\u001b[0m: \u001b[32mTree\u001b[0m = {\n",
       "  var name: String = cmd23.$ref$cmd7.zaphod.name;\n",
       "  doWhile$1(){\n",
       "    name = Predef.augmentString(name).tail;\n",
       "    if (name.isEmpty().unary_!)\n",
       "      doWhile$1()\n",
       "    else\n",
       "      ()\n",
       "  }\n",
       "}\n",
       "\u001b[36mact\u001b[0m: \u001b[32mSeq\u001b[0m[\u001b[32mTree\u001b[0m] = \u001b[33mList\u001b[0m(\n",
       "  doWhile$1(){\n",
       "  name = Predef.augmentString(name).tail;\n",
       "  if (name.isEmpty().unary_!)\n",
       "    doWhile$1()\n",
       "  else\n",
       "    ()\n",
       "}\n",
       ")\n",
       "\u001b[36mexp\u001b[0m: \u001b[32mSeq\u001b[0m[\u001b[32mTree\u001b[0m] = \u001b[33mList\u001b[0m(\n",
       "  doWhile$1(){\n",
       "  name = Predef.augmentString(name).tail;\n",
       "  if (name.isEmpty().unary_!)\n",
       "    doWhile$1()\n",
       "  else\n",
       "    ()\n",
       "}\n",
       ")\n",
       "\u001b[36mres23_3\u001b[0m: \u001b[32mBoolean\u001b[0m = \u001b[32mtrue\u001b[0m"
      ]
     },
     "metadata": {},
     "output_type": "display_data"
    }
   ],
   "source": [
    "// code\n",
    "val code = typeCheck(reify {\n",
    "  var name = zaphod.name\n",
    "  do {\n",
    "    name = name.tail\n",
    "  } while (!name.isEmpty)\n",
    "})\n",
    "\n",
    "// tree matching\n",
    "val act: Seq[Tree] = code collect {\n",
    "  case tree@dowhile(_, _) => tree\n",
    "}\n",
    "\n",
    "// tree construction\n",
    "val exp: Seq[Tree] = act map {\n",
    "  case dowhile(cond, body) => dowhile(cond, body)\n",
    "}\n",
    "\n",
    "// alpha-equivalence check\n",
    "(act zip exp) forall ((alphaEq _).tupled)"
   ]
  },
  {
   "cell_type": "markdown",
   "metadata": {},
   "source": [
    "### Pattern Matching"
   ]
  },
  {
   "cell_type": "markdown",
   "metadata": {},
   "source": [
    "Finally, Emma Source also models pattern matching through the `match_`, `case_`, and `bind` constructs."
   ]
  },
  {
   "cell_type": "code",
   "execution_count": 25,
   "metadata": {
    "collapsed": false
   },
   "outputs": [
    {
     "data": {
      "text/plain": [
       "\u001b[36mcode\u001b[0m: \u001b[32mTree\u001b[0m = cmd24.$ref$cmd7.zaphod match {\n",
       "  case (char @ (name: String, book: eu.stratosphere.emma.testschema.Literature.Book)eu.stratosphere.emma.testschema.Literature.Character(\"Zaphod Beeblebrox\", _)) => char.book\n",
       "}\n",
       "\u001b[36mact\u001b[0m: \u001b[32mSeq\u001b[0m[\u001b[32mTree\u001b[0m] = \u001b[33mList\u001b[0m(\n",
       "  cmd24.$ref$cmd7.zaphod match {\n",
       "  case (char @ (name: String, book: eu.stratosphere.emma.testschema.Literature.Book)eu.stratosphere.emma.testschema.Literature.Character(\"Zaphod Beeblebrox\", _)) => char.book\n",
       "}\n",
       ")\n",
       "\u001b[36mexp\u001b[0m: \u001b[32mSeq\u001b[0m[\u001b[32mTree\u001b[0m] = \u001b[33mList\u001b[0m(\n",
       "  cmd24.$ref$cmd7.zaphod match {\n",
       "  case (char @ (name: String, book: eu.stratosphere.emma.testschema.Literature.Book)eu.stratosphere.emma.testschema.Literature.Character(\"Zaphod Beeblebrox\", _)) => char.book\n",
       "}\n",
       ")\n",
       "\u001b[36mres24_3\u001b[0m: \u001b[32mBoolean\u001b[0m = \u001b[32mtrue\u001b[0m"
      ]
     },
     "metadata": {},
     "output_type": "display_data"
    }
   ],
   "source": [
    "// code\n",
    "val code = typeCheck(reify {\n",
    "  zaphod match {\n",
    "    case char@Character(\"Zaphod Beeblebrox\", _) => char.book\n",
    "  }\n",
    "})\n",
    "\n",
    "// tree matching\n",
    "val act: Seq[Tree] = code collect {\n",
    "  case tree@match_(_, _) => tree\n",
    "}\n",
    "\n",
    "// tree construction\n",
    "val exp: Seq[Tree] = act map {\n",
    "  case match_(selector, cases) => match_(selector, cases map {\n",
    "    case cs@case_(pat, guard, body) => case_(pat, guard, body)\n",
    "  })\n",
    "}\n",
    "\n",
    "// alpha-equivalence check\n",
    "(act zip exp) forall ((alphaEq _).tupled)"
   ]
  }
 ],
 "metadata": {
  "kernelspec": {
   "display_name": "Scala 2.11",
   "language": "scala211",
   "name": "scala211"
  },
  "language_info": {
   "codemirror_mode": "text/x-scala",
   "file_extension": ".scala",
   "mimetype": "text/x-scala",
   "name": "scala211",
   "pygments_lexer": "scala",
   "version": "2.11.8"
  }
 },
 "nbformat": 4,
 "nbformat_minor": 0
}
